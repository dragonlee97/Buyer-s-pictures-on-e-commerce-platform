{
 "cells": [
  {
   "cell_type": "code",
   "execution_count": 60,
   "metadata": {},
   "outputs": [],
   "source": [
    "import pandas as pd\n",
    "import pymysql\n",
    "import cv2\n",
    "from matplotlib import pyplot as plt\n",
    "import sys\n",
    "from matplotlib import pyplot as plt\n",
    "import matplotlib\n",
    "%matplotlib inline\n",
    "import pandas as pd\n",
    "from pandas import DataFrame\n",
    "from pylab import *\n",
    "import numpy"
   ]
  },
  {
   "cell_type": "code",
   "execution_count": 61,
   "metadata": {},
   "outputs": [],
   "source": [
    "conn = pymysql.connect(host='localhost',user='root',passwd='####',port = 3306,db='taobao',charset='utf8')\n",
    "cur=conn.cursor"
   ]
  },
  {
   "cell_type": "code",
   "execution_count": 69,
   "metadata": {},
   "outputs": [],
   "source": [
    "sql = \"select * from taobao.image where isSaved_Picture = 1 and position<>'2' limit 5000000;\"\n",
    "\n",
    "image_list = pd.read_sql(sql, con=conn) "
   ]
  },
  {
   "cell_type": "code",
   "execution_count": 5,
   "metadata": {},
   "outputs": [],
   "source": [
    "import os\n",
    "path = '../任务二/3.获取图片'\n",
    "files= os.listdir(path) #得到文件夹下的所有文件名称"
   ]
  },
  {
   "cell_type": "code",
   "execution_count": 63,
   "metadata": {},
   "outputs": [
    {
     "name": "stdout",
     "output_type": "stream",
     "text": [
      "(315, 10)\n"
     ]
    }
   ],
   "source": [
    "print(image_list.shape)"
   ]
  },
  {
   "cell_type": "code",
   "execution_count": 49,
   "metadata": {},
   "outputs": [],
   "source": [
    "def dHash(m,n):\n",
    "    tmp = pd.DataFrame()\n",
    "    v_hash = []\n",
    "    pic_id = []\n",
    "    for i in range(m,n):\n",
    "        path = image_list_j.iat[i,9]\n",
    "        pic_path = 'D:\\\\image\\\\' + path + '.jpg';\n",
    "        pic_path2 = ''\n",
    "        pic_id_value = image_list_j.iat[i,8]\n",
    "        if pic_path in files:\n",
    "            pic_path2 = '../任务二/3.获取图片/' + pic_path  \n",
    "        if len(pic_path2) == 0:\n",
    "            print('E1')\n",
    "            v_hash.append(None)\n",
    "            pic_id.append(None)\n",
    "            continue\n",
    "        try:\n",
    "            \n",
    "            img = cv2.imread(pic_path2)\n",
    "            ##############resize image\n",
    "            width_re = 61\n",
    "            height_re = 60\n",
    "            img_small = cv2.resize(img,(width_re,height_re))\n",
    "            img_small_grey = cv2.cvtColor(img_small,cv2.COLOR_BGR2GRAY)\n",
    "            \n",
    "            ##############get dHash array\n",
    "            array = np.array(img_small_grey).flatten()\n",
    "            h_array=[]\n",
    "            for j in range(0,width_re * height_re):\n",
    "                \n",
    "                if(j%width_re == width_re-1):\n",
    "                    continue\n",
    "                else:\n",
    "                    if(array[j] >= array[j+1]):\n",
    "                        h_array.append(1)\n",
    "                    else:\n",
    "                        h_array.append(0)\n",
    "            \n",
    "            bin = '1111'\n",
    "            for k in range(0,len(h_array)):\n",
    "                \n",
    "                bin = bin+str(h_array[k])                \n",
    "            #print(format((hex(int(bin,2))),'x'))\n",
    "            hex_hash = hex(int(bin,2))\n",
    "            #print(len(hex_hash))\n",
    "            \n",
    "            \n",
    "            pic_id.append(pic_id_value)\n",
    "            v_hash.append(hex_hash)\n",
    "        except:\n",
    "            print('E2')\n",
    "            pic_id.append(pic_id_value)\n",
    "            v_hash.append(hex_hash)\n",
    "        else:\n",
    "            plt.show()\n",
    "            \n",
    "        \n",
    "        #print(i)\n",
    "    \n",
    "    tmp['id'] = pic_id\n",
    "    tmp['dHash_value'] = v_hash\n",
    "    return tmp"
   ]
  },
  {
   "cell_type": "code",
   "execution_count": 50,
   "metadata": {},
   "outputs": [],
   "source": [
    "def hex_to_binstring(hex_hash):\n",
    "    \n",
    "    a = bin(int(hex_hash,16))\n",
    "    return a"
   ]
  },
  {
   "cell_type": "code",
   "execution_count": 67,
   "metadata": {},
   "outputs": [],
   "source": [
    "def similarity(a,b):\n",
    "    d = 0\n",
    "    for i in range(0,3606):\n",
    "        if(a[i]==b[i]):\n",
    "            continue\n",
    "        else:\n",
    "            d = d+1\n",
    "    return (1-d/3600)"
   ]
  },
  {
   "cell_type": "code",
   "execution_count": 68,
   "metadata": {},
   "outputs": [
    {
     "name": "stdout",
     "output_type": "stream",
     "text": [
      "0\n"
     ]
    },
    {
     "data": {
      "text/html": [
       "<div>\n",
       "<style scoped>\n",
       "    .dataframe tbody tr th:only-of-type {\n",
       "        vertical-align: middle;\n",
       "    }\n",
       "\n",
       "    .dataframe tbody tr th {\n",
       "        vertical-align: top;\n",
       "    }\n",
       "\n",
       "    .dataframe thead th {\n",
       "        text-align: right;\n",
       "    }\n",
       "</style>\n",
       "<table border=\"1\" class=\"dataframe\">\n",
       "  <thead>\n",
       "    <tr style=\"text-align: right;\">\n",
       "      <th></th>\n",
       "      <th>product_id</th>\n",
       "      <th>similarity_s_b</th>\n",
       "    </tr>\n",
       "  </thead>\n",
       "  <tbody>\n",
       "    <tr>\n",
       "      <th>0</th>\n",
       "      <td>576039826635</td>\n",
       "      <td>0.511636</td>\n",
       "    </tr>\n",
       "  </tbody>\n",
       "</table>\n",
       "</div>"
      ],
      "text/plain": [
       "     product_id  similarity_s_b\n",
       "0  576039826635        0.511636"
      ]
     },
     "metadata": {},
     "output_type": "display_data"
    }
   ],
   "source": [
    "product_list = image_list.product_id.unique()\n",
    "product_sim_list = pd.DataFrame()\n",
    "product_id_tmp = []\n",
    "sim_tmp = []\n",
    "count = 0\n",
    "\n",
    "for j in product_list:\n",
    "    #print(j)\n",
    "    \n",
    "    print(count)\n",
    "    count = count+1\n",
    "    \n",
    "    image_list_j = image_list[image_list.product_id==j]\n",
    "    seller_pic_num = image_list_j[image_list_j.from_who=='1'].shape[0] \n",
    "    #print(seller_pic_num)\n",
    "    #for i in range(0, image_list_j.shape[0]):\n",
    "    \n",
    "    try:\n",
    "        v_hash = []\n",
    "        pic_id = []\n",
    "        tmp = dHash(0,image_list_j.shape[0])\n",
    "        image_list_j = pd.merge(image_list_j,tmp,on='id')\n",
    "    except:\n",
    "        continue\n",
    "    #print(image_list_j)\n",
    "    \n",
    "    tmp=[]\n",
    "    for p in range(0,seller_pic_num):\n",
    "        try:\n",
    "            s_bin = hex_to_binstring(image_list_j.at[p,'dHash_value'])\n",
    "            #print(s_bin)\n",
    "        except:\n",
    "            tmp.append(0)\n",
    "            break;\n",
    "        #print(p)\n",
    "        for l in range(seller_pic_num,image_list_j.shape[0]):\n",
    "            try:\n",
    "                b_bin = hex_to_binstring(image_list_j.at[l,'dHash_value'])\n",
    "                sim = similarity(b_bin,s_bin)\n",
    "                #print(sim)\n",
    "                tmp.append(sim)\n",
    "            except:\n",
    "                tmp.append(0)\n",
    "                continue\n",
    "            \n",
    "    mean_sim = (sum(tmp)/len(tmp)*1.0)\n",
    "    sim_tmp.append(mean_sim)\n",
    "    product_id_tmp.append(j)\n",
    "\n",
    "    \n",
    "product_sim_list['product_id']=product_id_tmp\n",
    "product_sim_list['similarity_s_b'] = sim_tmp\n",
    "display(product_sim_list)\n",
    "product_sim_list.to_csv('/home/mk/Documents/Taobao/淘宝爬虫/毕业设计/product_pic_sim.csv')"
   ]
  },
  {
   "cell_type": "code",
   "execution_count": 39,
   "metadata": {},
   "outputs": [
    {
     "name": "stdout",
     "output_type": "stream",
     "text": [
      "98607\n"
     ]
    }
   ],
   "source": [
    "product_list = image_list.product_id.unique()\n",
    "print(len(product_list))"
   ]
  },
  {
   "cell_type": "code",
   "execution_count": null,
   "metadata": {},
   "outputs": [],
   "source": []
  }
 ],
 "metadata": {
  "kernelspec": {
   "display_name": "Python 3",
   "language": "python",
   "name": "python3"
  },
  "language_info": {
   "codemirror_mode": {
    "name": "ipython",
    "version": 3
   },
   "file_extension": ".py",
   "mimetype": "text/x-python",
   "name": "python",
   "nbconvert_exporter": "python",
   "pygments_lexer": "ipython3",
   "version": "3.7.3"
  }
 },
 "nbformat": 4,
 "nbformat_minor": 2
}
